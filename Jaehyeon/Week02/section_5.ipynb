{
 "cells": [
  {
   "cell_type": "code",
   "execution_count": 1,
   "metadata": {},
   "outputs": [],
   "source": [
    "import sys; sys.path.append(\"..\")\n",
    "\n",
    "import psycopg2\n",
    "from utils import get_connection, get_data"
   ]
  },
  {
   "cell_type": "markdown",
   "metadata": {},
   "source": [
    "### Open Connection"
   ]
  },
  {
   "cell_type": "code",
   "execution_count": 2,
   "metadata": {},
   "outputs": [],
   "source": [
    "con = get_connection()"
   ]
  },
  {
   "cell_type": "markdown",
   "metadata": {},
   "source": [
    "### Challenge: JOIN"
   ]
  },
  {
   "cell_type": "code",
   "execution_count": 3,
   "metadata": {},
   "outputs": [
    {
     "name": "stdout",
     "output_type": "stream",
     "text": [
      "Challenge - JOIN : \n",
      "1 : [('California', 'patricia.johnson@sakilacustomer.org'), ('California', 'betty.white@sakilacustomer.org'), ('California', 'alice.stewart@sakilacustomer.org'), ('California', 'rosa.reynolds@sakilacustomer.org'), ('California', 'renee.lane@sakilacustomer.org'), ('California', 'kristin.johnston@sakilacustomer.org'), ('California', 'cassandra.walters@sakilacustomer.org'), ('California', 'jacob.lance@sakilacustomer.org'), ('California', 'rene.mcalister@sakilacustomer.org')]\n",
      "2 : [('Adaptation Holes', 'Nick', 'Wahlberg'), ('Apache Divine', 'Nick', 'Wahlberg'), ('Baby Hall', 'Nick', 'Wahlberg'), ('Bull Shawshank', 'Nick', 'Wahlberg'), ('Chainsaw Uptown', 'Nick', 'Wahlberg'), ('Chisum Behavior', 'Nick', 'Wahlberg'), ('Destiny Saturday', 'Nick', 'Wahlberg'), ('Dracula Crystal', 'Nick', 'Wahlberg'), ('Fight Jawbreaker', 'Nick', 'Wahlberg'), ('Flash Wars', 'Nick', 'Wahlberg')]\n"
     ]
    }
   ],
   "source": [
    "queries = [\n",
    "    \"\"\"\n",
    "    SELECT district, email FROM (\n",
    "        (SELECT district, address_id FROM address) AS addr\n",
    "        INNER JOIN\n",
    "        (SELECT email, address_id FROM customer) AS cust\n",
    "        ON addr.address_id = cust.address_id\n",
    "    )\n",
    "    WHERE district = 'California';\n",
    "    \"\"\",\n",
    "\n",
    "    \"\"\"\n",
    "    SELECT title, first_name, last_name FROM (\n",
    "        (SELECT actor_id, first_name, last_name FROM actor) AS actor\n",
    "        INNER JOIN (\n",
    "            (SELECT title, film_id FROM film) AS film\n",
    "            INNER JOIN\n",
    "            (SELECT actor_id, film_id FROM film_actor) AS film_actor\n",
    "            ON film.film_id = film_actor.film_id\n",
    "        ) AS films\n",
    "        ON actor.actor_id = films.actor_id\n",
    "    )\n",
    "    WHERE first_name = 'Nick' AND last_name = 'Wahlberg';\n",
    "    \"\"\",\n",
    "]\n",
    "\n",
    "# simpler queries\n",
    "# queries = [\n",
    "#     \"\"\"\n",
    "#     SELECT district, email FROM (\n",
    "#         address INNER JOIN customer\n",
    "#         ON address.address_id = customer.address_id\n",
    "#     )\n",
    "#     WHERE district = 'California';\n",
    "#     \"\"\",\n",
    "\n",
    "#     \"\"\"\n",
    "#     SELECT title, first_name, last_name FROM (\n",
    "#         actor INNER JOIN (\n",
    "#             film INNER JOIN film_actor\n",
    "#             ON film.film_id = film_actor.film_id\n",
    "#         ) AS films\n",
    "#         ON actor.actor_id = films.actor_id\n",
    "#     )\n",
    "#     WHERE first_name = 'Nick' AND last_name = 'Wahlberg';\n",
    "#     \"\"\",\n",
    "# ]\n",
    "\n",
    "print(\"Challenge - JOIN : \")\n",
    "for i, query in enumerate(queries):\n",
    "    print(f\"{i+1} : \", get_data(con, query, 10), sep='')"
   ]
  },
  {
   "cell_type": "markdown",
   "metadata": {},
   "source": [
    "### Close Connection"
   ]
  },
  {
   "cell_type": "code",
   "execution_count": 4,
   "metadata": {},
   "outputs": [],
   "source": [
    "con.close()"
   ]
  }
 ],
 "metadata": {
  "kernelspec": {
   "display_name": "fsd",
   "language": "python",
   "name": "python3"
  },
  "language_info": {
   "codemirror_mode": {
    "name": "ipython",
    "version": 3
   },
   "file_extension": ".py",
   "mimetype": "text/x-python",
   "name": "python",
   "nbconvert_exporter": "python",
   "pygments_lexer": "ipython3",
   "version": "3.11.4"
  },
  "orig_nbformat": 4
 },
 "nbformat": 4,
 "nbformat_minor": 2
}
