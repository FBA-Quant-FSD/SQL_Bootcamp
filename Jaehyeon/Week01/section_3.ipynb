{
 "cells": [
  {
   "cell_type": "code",
   "execution_count": 1,
   "metadata": {},
   "outputs": [],
   "source": [
    "import sys; sys.path.append(\"..\")\n",
    "\n",
    "import psycopg2\n",
    "from utils import get_connection, get_data"
   ]
  },
  {
   "cell_type": "markdown",
   "metadata": {},
   "source": [
    "### Open Connection"
   ]
  },
  {
   "cell_type": "code",
   "execution_count": 6,
   "metadata": {},
   "outputs": [],
   "source": [
    "con = get_connection()"
   ]
  },
  {
   "cell_type": "markdown",
   "metadata": {},
   "source": [
    "### Challenge: GROUP BY"
   ]
  },
  {
   "cell_type": "code",
   "execution_count": 3,
   "metadata": {},
   "outputs": [
    {
     "name": "stdout",
     "output_type": "stream",
     "text": [
      "Challenge - GROUP BY : \n",
      "1 : [(1, 7292), (2, 7304)]\n",
      "2 : [('PG', Decimal('18.9590721649484536')), ('R', Decimal('20.2310256410256410')), ('NC-17', Decimal('20.1376190476190476')), ('PG-13', Decimal('20.4025560538116592')), ('G', Decimal('20.1248314606741573'))]\n",
      "3 : [(148, Decimal('211.55')), (526, Decimal('208.58')), (178, Decimal('194.61')), (137, Decimal('191.62')), (144, Decimal('189.60'))]\n"
     ]
    }
   ],
   "source": [
    "queries = [\n",
    "    \"SELECT staff_id, COUNT(amount) FROM payment GROUP BY staff_id;\",\n",
    "    \"SELECT rating, AVG(replacement_cost) FROM film GROUP BY rating;\",\n",
    "\n",
    "    \"\"\"\n",
    "    SELECT customer_id, SUM(amount) AS amounts FROM payment\n",
    "    GROUP BY customer_id\n",
    "    ORDER BY amounts DESC\n",
    "    LIMIT 5;\n",
    "    \"\"\",\n",
    "]\n",
    "\n",
    "print(\"Challenge - GROUP BY : \")\n",
    "for i, query in enumerate(queries):\n",
    "    print(f\"{i+1} : \", get_data(con, query, 10), sep='')"
   ]
  },
  {
   "cell_type": "markdown",
   "metadata": {},
   "source": [
    "### Challenge: HAVING"
   ]
  },
  {
   "cell_type": "code",
   "execution_count": 7,
   "metadata": {},
   "outputs": [
    {
     "name": "stdout",
     "output_type": "stream",
     "text": [
      "Challenge - HAVING : \n",
      "1 : [(144, 40), (526, 42), (148, 45)]\n",
      "2 : [(187, Decimal('110.81')), (522, Decimal('102.80')), (526, Decimal('101.78')), (211, Decimal('108.77')), (148, Decimal('110.78'))]\n"
     ]
    }
   ],
   "source": [
    "queries = [\n",
    "    \"\"\"\n",
    "    SELECT customer_id, COUNT(amount) FROM payment\n",
    "    GROUP BY customer_id\n",
    "    HAVING COUNT(amount) >= 40;\n",
    "    \"\"\",\n",
    "\n",
    "    \"\"\"\n",
    "    SELECT customer_id,SUM(amount) FROM payment\n",
    "    WHERE staff_id = 2\n",
    "    GROUP BY customer_id\n",
    "    HAVING SUM(amount) >= 100;\n",
    "    \"\"\"\n",
    "]\n",
    "\n",
    "print(\"Challenge - HAVING : \")\n",
    "for i, query in enumerate(queries):\n",
    "    print(f\"{i+1} : \", get_data(con, query, 10), sep='')\n"
   ]
  },
  {
   "cell_type": "markdown",
   "metadata": {},
   "source": [
    "### Close Connection"
   ]
  },
  {
   "cell_type": "code",
   "execution_count": 9,
   "metadata": {},
   "outputs": [],
   "source": [
    "con.close()"
   ]
  }
 ],
 "metadata": {
  "kernelspec": {
   "display_name": "fsd",
   "language": "python",
   "name": "python3"
  },
  "language_info": {
   "codemirror_mode": {
    "name": "ipython",
    "version": 3
   },
   "file_extension": ".py",
   "mimetype": "text/x-python",
   "name": "python",
   "nbconvert_exporter": "python",
   "pygments_lexer": "ipython3",
   "version": "3.11.4"
  },
  "orig_nbformat": 4
 },
 "nbformat": 4,
 "nbformat_minor": 2
}
