{
 "cells": [
  {
   "cell_type": "code",
   "execution_count": 1,
   "metadata": {},
   "outputs": [],
   "source": [
    "import sys; sys.path.append(\"..\")\n",
    "\n",
    "import psycopg2\n",
    "from utils import get_connection, get_data"
   ]
  },
  {
   "cell_type": "markdown",
   "metadata": {},
   "source": [
    "### Open Connection"
   ]
  },
  {
   "cell_type": "code",
   "execution_count": 8,
   "metadata": {},
   "outputs": [],
   "source": [
    "con = get_connection()"
   ]
  },
  {
   "cell_type": "markdown",
   "metadata": {},
   "source": [
    "### 1. Create Table"
   ]
  },
  {
   "cell_type": "code",
   "execution_count": null,
   "metadata": {},
   "outputs": [],
   "source": [
    "queries = [\n",
    "    \"\"\"\n",
    "    CREATE TABLE students (\n",
    "        student_id SERIAL PRIMARY KEY,\n",
    "        first_name STRING,\n",
    "        last_name STRING,\n",
    "        homeroom_number INTEGER,\n",
    "        phone STRING UNIQUE,\n",
    "        email STRING UNIQUE,\n",
    "        graduation_year INTEGER,\n",
    "    );\n",
    "    \"\"\",\n",
    "\n",
    "    \"\"\"\n",
    "    CREATE TABLE teachers (\n",
    "        teacher_id SERIAL PRIMARY KEY,\n",
    "        first_name STRING,\n",
    "        last_name STRING,\n",
    "        homeroom_number INTEGER,\n",
    "        department STRING,\n",
    "        phone STRING UNIQUE,\n",
    "        email STRING UNIQUE,\n",
    "    );\n",
    "    \"\"\",\n",
    "]\n",
    "\n",
    "for i, query in enumerate(queries):\n",
    "    print(f\"{i+1} : \", get_data(con, query, 10), sep='')"
   ]
  },
  {
   "cell_type": "markdown",
   "metadata": {},
   "source": [
    "### 2. Insert Values"
   ]
  },
  {
   "cell_type": "code",
   "execution_count": null,
   "metadata": {},
   "outputs": [],
   "source": [
    "queries = [\n",
    "    \"\"\"\n",
    "    INSERT INTO students\n",
    "        (student_id, first_name, last_name, homeroom_number, phone, graduation_year)\n",
    "    VALUES\n",
    "        (1, 'Mark', 'Watney, 5, '777-555-1234', 2035);\n",
    "    \"\"\",\n",
    "\n",
    "    \"\"\"\n",
    "    INSERT INTO teachers\n",
    "        (teacher_id, first_name, last_name, homeroom_number, department, phone, email)\n",
    "    VALUES\n",
    "        (1, 'Jonas', 'Salk', 5, 'Biology', 'jsalk@school.org', '777-555-4321')\n",
    "    \"\"\"\n",
    "]\n",
    "\n",
    "for i, query in enumerate(queries):\n",
    "    print(f\"{i+1} : \", get_data(con, query, 10), sep='')"
   ]
  },
  {
   "cell_type": "markdown",
   "metadata": {},
   "source": [
    "### Close Connection"
   ]
  },
  {
   "cell_type": "code",
   "execution_count": 10,
   "metadata": {},
   "outputs": [],
   "source": [
    "con.close()"
   ]
  }
 ],
 "metadata": {
  "kernelspec": {
   "display_name": "fsd",
   "language": "python",
   "name": "python3"
  },
  "language_info": {
   "codemirror_mode": {
    "name": "ipython",
    "version": 3
   },
   "file_extension": ".py",
   "mimetype": "text/x-python",
   "name": "python",
   "nbconvert_exporter": "python",
   "pygments_lexer": "ipython3",
   "version": "3.11.4"
  },
  "orig_nbformat": 4
 },
 "nbformat": 4,
 "nbformat_minor": 2
}
