{
 "cells": [
  {
   "cell_type": "code",
   "execution_count": 7,
   "metadata": {},
   "outputs": [],
   "source": [
    "import sys; sys.path.append(\"..\")\n",
    "\n",
    "import psycopg2\n",
    "from utils import get_connection, get_data"
   ]
  },
  {
   "cell_type": "markdown",
   "metadata": {},
   "source": [
    "### Open Connection"
   ]
  },
  {
   "cell_type": "code",
   "execution_count": 8,
   "metadata": {},
   "outputs": [],
   "source": [
    "con = get_connection()"
   ]
  },
  {
   "cell_type": "markdown",
   "metadata": {},
   "source": [
    "### Challenge: SELECT"
   ]
  },
  {
   "cell_type": "code",
   "execution_count": 33,
   "metadata": {},
   "outputs": [
    {
     "name": "stdout",
     "output_type": "stream",
     "text": [
      "Challenge - SELECT :\n",
      "[('Jared', 'Ely', 'jared.ely@sakilacustomer.org'), ('Mary', 'Smith', 'mary.smith@sakilacustomer.org'), ('Patricia', 'Johnson', 'patricia.johnson@sakilacustomer.org'), ('Linda', 'Williams', 'linda.williams@sakilacustomer.org'), ('Barbara', 'Jones', 'barbara.jones@sakilacustomer.org')]\n"
     ]
    }
   ],
   "source": [
    "query = \"SELECT first_name, last_name, email FROM customer;\"\n",
    "print(\"Challenge - SELECT :\\n\", get_data(con, query, 5), sep='')"
   ]
  },
  {
   "cell_type": "markdown",
   "metadata": {},
   "source": [
    "### Challenge: SELECT DISTINCT"
   ]
  },
  {
   "cell_type": "code",
   "execution_count": 31,
   "metadata": {},
   "outputs": [
    {
     "name": "stdout",
     "output_type": "stream",
     "text": [
      "Challenge - SELECT DISTINCT :\n",
      "[('PG',), ('R',), ('NC-17',), ('PG-13',), ('G',)]\n"
     ]
    }
   ],
   "source": [
    "query = \"SELECT DISTINCT rating FROM film;\"\n",
    "print(\"Challenge - SELECT DISTINCT :\\n\", get_data(con, query), sep='')"
   ]
  },
  {
   "cell_type": "markdown",
   "metadata": {},
   "source": [
    "### Challenge: SELECT WHERE"
   ]
  },
  {
   "cell_type": "code",
   "execution_count": 9,
   "metadata": {},
   "outputs": [
    {
     "name": "stdout",
     "output_type": "stream",
     "text": [
      "Challenge - SELECT WHERE : \n",
      "1 : [('nancy.thomas@sakilacustomer.org',)]\n",
      "2 : [('A Thoughtful Story of a Astronaut And a Composer who must Conquer a Dog in The Sahara Desert',)]\n"
     ]
    }
   ],
   "source": [
    "# queries = [\n",
    "# \"\"\"\n",
    "# SELECT r.email FROM (\n",
    "#     SELECT first_name, last_name, email\n",
    "#     FROM customer\n",
    "#     WHERE first_name = 'Nancy'\n",
    "#         AND last_name = 'Thomas'\n",
    "# ) AS r;\n",
    "# \"\"\",\n",
    "# \n",
    "# \"\"\"\n",
    "# SELECT r.description FROM (\n",
    "#     SELECT title, description\n",
    "#     FROM film\n",
    "#     WHERE title = 'Outlaw Hanky'\n",
    "# ) AS r;\n",
    "# \"\"\",\n",
    "# ]\n",
    "\n",
    "queries = [\n",
    "    \"SELECT email FROM customer WHERE first_name = 'Nancy' AND last_name = 'Thomas;\",\n",
    "    \"SELECT description FROM film WHERE title = 'Outlaw Hanky';\"\n",
    "]\n",
    "\n",
    "print(\"Challenge - SELECT WHERE : \")\n",
    "for i, query in enumerate(queries):\n",
    "    print(f\"{i+1} : \", get_data(con, query, 10), sep='')"
   ]
  },
  {
   "cell_type": "markdown",
   "metadata": {},
   "source": [
    "### General Challenge"
   ]
  },
  {
   "cell_type": "code",
   "execution_count": 5,
   "metadata": {},
   "outputs": [
    {
     "name": "stdout",
     "output_type": "stream",
     "text": [
      "Challenge - General Challenge : \n",
      "1-th answer : [(3618,)]\n",
      "2-th answer : [(5,)]\n",
      "3-th answer : [(378,)]\n",
      "4-th answer : [('Aden',), ('Eastern Visayas',), ('Vaduz',), ('Tokat',), ('Anzotegui',)]\n",
      "5-th answer : [(52,)]\n",
      "6-th answer : [(5,)]\n"
     ]
    }
   ],
   "source": [
    "queries = [\n",
    "    \"SELECT COUNT(*) FROM payment WHERE amount > 5;\",\n",
    "    \"SELECT COUNT(*) FROM actor WHERE first_name LIKE 'P%';\",\n",
    "    \"SELECT COUNT(DISTINCT(district)) FROM address;\",\n",
    "    \"SELECT DISTINCT(district) FROM address;\",\n",
    "    \"SELECT COUNT(*) FROM film WHERE (rating='R' AND replacement_cost BETWEEN 5 AND 15);\",\n",
    "    \"SELECT COUNT(*) FROM film WHERE title LIKE '%Truman%';\",\n",
    "]\n",
    "fetchmany_idx = [3]\n",
    "\n",
    "print(\"Challenge - General Challenge : \")\n",
    "for i, query in enumerate(queries):\n",
    "    num = 5 if i in fetchmany_idx else 0\n",
    "    print(f\"{i+1}-th answer : \", get_data(con, query, num), sep='')"
   ]
  },
  {
   "cell_type": "markdown",
   "metadata": {},
   "source": [
    "### Close Connection"
   ]
  },
  {
   "cell_type": "code",
   "execution_count": 10,
   "metadata": {},
   "outputs": [],
   "source": [
    "con.close()"
   ]
  }
 ],
 "metadata": {
  "kernelspec": {
   "display_name": "fsd",
   "language": "python",
   "name": "python3"
  },
  "language_info": {
   "codemirror_mode": {
    "name": "ipython",
    "version": 3
   },
   "file_extension": ".py",
   "mimetype": "text/x-python",
   "name": "python",
   "nbconvert_exporter": "python",
   "pygments_lexer": "ipython3",
   "version": "3.11.4"
  },
  "orig_nbformat": 4
 },
 "nbformat": 4,
 "nbformat_minor": 2
}
