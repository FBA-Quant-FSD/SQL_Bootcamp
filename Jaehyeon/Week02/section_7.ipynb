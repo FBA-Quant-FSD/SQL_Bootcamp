{
 "cells": [
  {
   "cell_type": "code",
   "execution_count": 1,
   "metadata": {},
   "outputs": [],
   "source": [
    "import sys; sys.path.append(\"..\")\n",
    "\n",
    "import psycopg2\n",
    "from utils import get_connection, get_data"
   ]
  },
  {
   "cell_type": "markdown",
   "metadata": {},
   "source": [
    "### Open Connection"
   ]
  },
  {
   "cell_type": "code",
   "execution_count": 8,
   "metadata": {},
   "outputs": [],
   "source": [
    "con = get_connection()"
   ]
  },
  {
   "cell_type": "markdown",
   "metadata": {},
   "source": [
    "### Problem 1"
   ]
  },
  {
   "cell_type": "code",
   "execution_count": null,
   "metadata": {},
   "outputs": [],
   "source": [
    "query = \"SELECT * FROM cd.facilities;\"\n",
    "\n",
    "print(get_data(con, query))"
   ]
  },
  {
   "cell_type": "markdown",
   "metadata": {},
   "source": [
    "### Problem 2"
   ]
  },
  {
   "cell_type": "code",
   "execution_count": null,
   "metadata": {},
   "outputs": [],
   "source": [
    "query = \"SELECT name, membercost FROM cd.facilities;\"\n",
    "\n",
    "print(get_data(con, query))"
   ]
  },
  {
   "cell_type": "markdown",
   "metadata": {},
   "source": [
    "### Problem 3"
   ]
  },
  {
   "cell_type": "code",
   "execution_count": null,
   "metadata": {},
   "outputs": [],
   "source": [
    "query = \"\"\"\n",
    "SELECT name, membercost FROM cd.facilities\n",
    "WHERE membercost != 0;\n",
    "\"\"\"\n",
    "\n",
    "print(get_data(con, query))"
   ]
  },
  {
   "cell_type": "markdown",
   "metadata": {},
   "source": [
    "### Problem 4"
   ]
  },
  {
   "cell_type": "code",
   "execution_count": null,
   "metadata": {},
   "outputs": [],
   "source": [
    "query = \"\"\"\n",
    "SELECT name, membercost, monthlymaintenance FROM cd.facilities\n",
    "WHERE 50*membercost < monthlymaintenance AND membercost != 0;\n",
    "\"\"\"\n",
    "\n",
    "print(get_data(con, query))"
   ]
  },
  {
   "cell_type": "markdown",
   "metadata": {},
   "source": [
    "### Problem 5"
   ]
  },
  {
   "cell_type": "code",
   "execution_count": null,
   "metadata": {},
   "outputs": [],
   "source": [
    "query = \"\"\"\n",
    "SELECT * FROM cd.facilities\n",
    "WHERE name LIKE '%Tennis%';\n",
    "\"\"\"\n",
    "\n",
    "print(get_data(con, query))"
   ]
  },
  {
   "cell_type": "markdown",
   "metadata": {},
   "source": [
    "### Problem 6"
   ]
  },
  {
   "cell_type": "code",
   "execution_count": null,
   "metadata": {},
   "outputs": [],
   "source": [
    "query = \"\"\"\n",
    "SELECT * FROM cd.facilities\n",
    "WHERE facid IN (1,5);\n",
    "\"\"\"\n",
    "\n",
    "print(get_data(con, query))"
   ]
  },
  {
   "cell_type": "markdown",
   "metadata": {},
   "source": [
    "### Problem 7"
   ]
  },
  {
   "cell_type": "code",
   "execution_count": null,
   "metadata": {},
   "outputs": [],
   "source": [
    "query = \"\"\"\n",
    "SELECT memid, surname, firstname, joindate FROM cd.members\n",
    "WHERE joindate >= '2012-09-01 00:00:00';\n",
    "\"\"\"\n",
    "\n",
    "print(get_data(con, query))"
   ]
  },
  {
   "cell_type": "markdown",
   "metadata": {},
   "source": [
    "### Problem 8"
   ]
  },
  {
   "cell_type": "code",
   "execution_count": null,
   "metadata": {},
   "outputs": [],
   "source": [
    "query = \"\"\"\n",
    "SELECT DISTINCT(surname) FROM cd.members\n",
    "ORDER BY surname\n",
    "LIMIT 10;\n",
    "\"\"\"\n",
    "\n",
    "print(get_data(con, query))"
   ]
  },
  {
   "cell_type": "markdown",
   "metadata": {},
   "source": [
    "### Problem 9"
   ]
  },
  {
   "cell_type": "code",
   "execution_count": null,
   "metadata": {},
   "outputs": [],
   "source": [
    "query = \"\"\"\n",
    "SELECT memid, joindate FROM cd.members\n",
    "ORDER BY memid DESC\n",
    "LIMIT 1;\n",
    "\"\"\"\n",
    "\n",
    "print(get_data(con, query))"
   ]
  },
  {
   "cell_type": "markdown",
   "metadata": {},
   "source": [
    "### Problem 10"
   ]
  },
  {
   "cell_type": "code",
   "execution_count": null,
   "metadata": {},
   "outputs": [],
   "source": [
    "query = \"\"\"\n",
    "SELECT COUNT(*) FROM cd.facilities\n",
    "WHERE guestcost >= 10;\n",
    "\"\"\"\n",
    "\n",
    "print(get_data(con, query))"
   ]
  },
  {
   "cell_type": "markdown",
   "metadata": {},
   "source": [
    "### Problem 11"
   ]
  },
  {
   "cell_type": "code",
   "execution_count": null,
   "metadata": {},
   "outputs": [],
   "source": [
    "query = \"\"\"\n",
    "SELECT facid, SUM(slots) AS total_slots FROM cd.bookings\n",
    "WHERE starttime >= '2012-09-01 00:00:00'\n",
    "GROUP BY facid;\n",
    "\"\"\"\n",
    "\n",
    "print(get_data(con, query))"
   ]
  },
  {
   "cell_type": "markdown",
   "metadata": {},
   "source": [
    "### Problem 12"
   ]
  },
  {
   "cell_type": "code",
   "execution_count": null,
   "metadata": {},
   "outputs": [],
   "source": [
    "query = \"\"\"\n",
    "SELECT facid, SUM(slots) AS total_slots FROM cd.bookings\n",
    "GROUP BY facid\n",
    "HAVING SUM(slots) > 1000;\n",
    "\"\"\"\n",
    "\n",
    "print(get_data(con, query))"
   ]
  },
  {
   "cell_type": "markdown",
   "metadata": {},
   "source": [
    "### Problem 13"
   ]
  },
  {
   "cell_type": "code",
   "execution_count": null,
   "metadata": {},
   "outputs": [],
   "source": [
    "query = \"\"\"\n",
    "SELECT starttime AS start, name FROM (\n",
    "    cd.bookings INNER JOIN cd.facilities\n",
    "    ON cd.bookings.facid = cd.facilities.facid\n",
    ")\n",
    "WHERE TO_CHAR(starttime, 'yyyy-mm-dd') = '2012-09-21'\n",
    "    AND name LIKE '%Tennis Court%'\n",
    "ORDER BY starttime;\n",
    "\"\"\"\n",
    "\n",
    "print(get_data(con, query))"
   ]
  },
  {
   "cell_type": "markdown",
   "metadata": {},
   "source": [
    "### Problem 14"
   ]
  },
  {
   "cell_type": "code",
   "execution_count": null,
   "metadata": {},
   "outputs": [],
   "source": [
    "query = \"\"\"\n",
    "SELECT starttime FROM (\n",
    "    (SELECT memid, firstname, surname FROM cd.members) AS members\n",
    "    INNER JOIN\n",
    "    (SELECT memid, starttime FROM cd.bookings) AS bookings\n",
    "    ON members.memid = bookings.memid\n",
    ")\n",
    "WHERE  firstname = 'David' and surname='Farrell';\n",
    "\"\"\"\n",
    "\n",
    "print(get_data(con, query))"
   ]
  },
  {
   "cell_type": "markdown",
   "metadata": {},
   "source": [
    "### Close Connection"
   ]
  },
  {
   "cell_type": "code",
   "execution_count": 10,
   "metadata": {},
   "outputs": [],
   "source": [
    "con.close()"
   ]
  }
 ],
 "metadata": {
  "kernelspec": {
   "display_name": "fsd",
   "language": "python",
   "name": "python3"
  },
  "language_info": {
   "codemirror_mode": {
    "name": "ipython",
    "version": 3
   },
   "file_extension": ".py",
   "mimetype": "text/x-python",
   "name": "python",
   "nbconvert_exporter": "python",
   "pygments_lexer": "ipython3",
   "version": "3.11.4"
  },
  "orig_nbformat": 4
 },
 "nbformat": 4,
 "nbformat_minor": 2
}
