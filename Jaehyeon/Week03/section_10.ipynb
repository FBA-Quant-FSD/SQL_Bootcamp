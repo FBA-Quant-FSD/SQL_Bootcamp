{
 "cells": [
  {
   "cell_type": "code",
   "execution_count": 5,
   "metadata": {},
   "outputs": [],
   "source": [
    "import sys; sys.path.append(\"..\")\n",
    "\n",
    "import psycopg2\n",
    "from utils import get_connection, get_data"
   ]
  },
  {
   "cell_type": "markdown",
   "metadata": {},
   "source": [
    "### Open Connection"
   ]
  },
  {
   "cell_type": "code",
   "execution_count": 6,
   "metadata": {},
   "outputs": [],
   "source": [
    "con = get_connection()"
   ]
  },
  {
   "cell_type": "markdown",
   "metadata": {},
   "source": [
    "### Challenge: CASE"
   ]
  },
  {
   "cell_type": "code",
   "execution_count": 7,
   "metadata": {},
   "outputs": [
    {
     "name": "stdout",
     "output_type": "stream",
     "text": [
      "Challenge - CASE :\n",
      "[(194, 195, 210, 223, 178)]\n"
     ]
    }
   ],
   "source": [
    "query = \"\"\"\n",
    "    SELECT \n",
    "    SUM (\n",
    "        CASE rating\n",
    "            WHEN 'PG' THEN 1\n",
    "            ELSE 0\n",
    "        END\n",
    "    )\n",
    "    AS PG,\n",
    "\n",
    "    SUM (\n",
    "        CASE rating\n",
    "            WHEN 'R' THEN 1\n",
    "            ELSE 0\n",
    "        END\n",
    "    )\n",
    "    AS R,\n",
    "\n",
    "    SUM (\n",
    "        CASE rating\n",
    "            WHEN 'NC-17' THEN 1\n",
    "            ELSE 0\n",
    "        END\n",
    "    )\n",
    "    AS NC_17,\n",
    "\n",
    "    SUM (\n",
    "        CASE rating\n",
    "            WHEN 'PG-13' THEN 1\n",
    "            ELSE 0\n",
    "        END\n",
    "    )\n",
    "    AS PG_13,\n",
    "\n",
    "    SUM (\n",
    "        CASE rating\n",
    "            WHEN 'G' THEN 1\n",
    "            ELSE 0\n",
    "        END\n",
    "    )\n",
    "    AS G\n",
    "\n",
    "    FROM film;\n",
    "    \"\"\"\n",
    "\n",
    "print(\"Challenge - CASE :\\n\", get_data(con, query), sep='')"
   ]
  },
  {
   "cell_type": "markdown",
   "metadata": {},
   "source": [
    "### Close Connection"
   ]
  },
  {
   "cell_type": "code",
   "execution_count": 8,
   "metadata": {},
   "outputs": [],
   "source": [
    "con.close()"
   ]
  }
 ],
 "metadata": {
  "kernelspec": {
   "display_name": "fsd",
   "language": "python",
   "name": "python3"
  },
  "language_info": {
   "codemirror_mode": {
    "name": "ipython",
    "version": 3
   },
   "file_extension": ".py",
   "mimetype": "text/x-python",
   "name": "python",
   "nbconvert_exporter": "python",
   "pygments_lexer": "ipython3",
   "version": "3.11.4"
  },
  "orig_nbformat": 4
 },
 "nbformat": 4,
 "nbformat_minor": 2
}
