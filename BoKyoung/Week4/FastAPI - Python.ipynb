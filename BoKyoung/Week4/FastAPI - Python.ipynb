{
 "cells": [
  {
   "cell_type": "markdown",
   "metadata": {},
   "source": [
    "## FastAPI"
   ]
  },
  {
   "cell_type": "markdown",
   "metadata": {},
   "source": [
    "### Section 2: Python"
   ]
  },
  {
   "cell_type": "markdown",
   "metadata": {},
   "source": [
    "* Variables in Python"
   ]
  },
  {
   "cell_type": "code",
   "execution_count": 1,
   "metadata": {},
   "outputs": [
    {
     "name": "stdout",
     "output_type": "stream",
     "text": [
      "12.5\n"
     ]
    }
   ],
   "source": [
    "# cost : variable\n",
    "cost = 10\n",
    "tax_percent = .25\n",
    "tax = cost * tax_percent\n",
    "price = cost + tax\n",
    "\n",
    "print(price)"
   ]
  },
  {
   "cell_type": "code",
   "execution_count": 2,
   "metadata": {},
   "outputs": [
    {
     "data": {
      "text/plain": [
       "'\\n<data type>\\ncost : integer\\ntax_percent : float\\nusername = \"Codingwithroby\" : string\\n'"
      ]
     },
     "execution_count": 2,
     "metadata": {},
     "output_type": "execute_result"
    }
   ],
   "source": [
    "'''\n",
    "<data type>\n",
    "cost : integer\n",
    "tax_percent : float\n",
    "username = \"Codingwithroby\" : string\n",
    "'''"
   ]
  },
  {
   "cell_type": "code",
   "execution_count": 3,
   "metadata": {},
   "outputs": [
    {
     "name": "stdout",
     "output_type": "stream",
     "text": [
      "akng aslkfjsa\n"
     ]
    }
   ],
   "source": [
    "a = \"akng\"\n",
    "b = \"aslkfjsa\"\n",
    "\n",
    "print(a + \" \" + b)"
   ]
  },
  {
   "cell_type": "markdown",
   "metadata": {},
   "source": [
    "* Comment(주석처리)"
   ]
  },
  {
   "cell_type": "code",
   "execution_count": 4,
   "metadata": {},
   "outputs": [
    {
     "data": {
      "text/plain": [
       "'\\n이렇게 쓰기\\n'"
      ]
     },
     "execution_count": 4,
     "metadata": {},
     "output_type": "execute_result"
    }
   ],
   "source": [
    "\n",
    "\n",
    "# 이렇게 쓰기\n",
    "'''\n",
    "이렇게 쓰기\n",
    "'''\n",
    "\n",
    "\"\"\"\n",
    "이렇게 쓰기\n",
    "\"\"\""
   ]
  },
  {
   "cell_type": "code",
   "execution_count": null,
   "metadata": {},
   "outputs": [],
   "source": []
  },
  {
   "cell_type": "markdown",
   "metadata": {},
   "source": [
    "* String Formatting"
   ]
  },
  {
   "cell_type": "code",
   "execution_count": 5,
   "metadata": {},
   "outputs": [
    {
     "name": "stdout",
     "output_type": "stream",
     "text": [
      "Hi Eric\n"
     ]
    }
   ],
   "source": [
    "first_name = \"Eric\"\n",
    "print(\"Hi \" + first_name)"
   ]
  },
  {
   "cell_type": "code",
   "execution_count": 6,
   "metadata": {},
   "outputs": [
    {
     "name": "stdout",
     "output_type": "stream",
     "text": [
      "Hi Eric\n"
     ]
    }
   ],
   "source": [
    "#중괄호로 감싸주기\n",
    "print(f\"Hi {first_name}\")"
   ]
  },
  {
   "cell_type": "code",
   "execution_count": 7,
   "metadata": {},
   "outputs": [
    {
     "name": "stdout",
     "output_type": "stream",
     "text": [
      "Hi Eric\n"
     ]
    }
   ],
   "source": [
    "##\n",
    "sentence = \"Hi {}\"\n",
    "print(sentence.format(first_name))"
   ]
  },
  {
   "cell_type": "code",
   "execution_count": 16,
   "metadata": {},
   "outputs": [
    {
     "name": "stdout",
     "output_type": "stream",
     "text": [
      "Hi Eric Seung\n"
     ]
    }
   ],
   "source": [
    "##\n",
    "sentence = \"Hi {} {}\"\n",
    "last_name = \"Seung\"\n",
    "print(sentence.format(first_name, last_name))"
   ]
  },
  {
   "cell_type": "code",
   "execution_count": 17,
   "metadata": {},
   "outputs": [
    {
     "name": "stdout",
     "output_type": "stream",
     "text": [
      "Hi Eric Seung I hope you are learning\n"
     ]
    }
   ],
   "source": [
    "print(f\"Hi {first_name} {last_name} I hope you are learning\")"
   ]
  },
  {
   "cell_type": "code",
   "execution_count": null,
   "metadata": {},
   "outputs": [],
   "source": []
  },
  {
   "cell_type": "markdown",
   "metadata": {},
   "source": [
    "* User Input"
   ]
  },
  {
   "cell_type": "code",
   "execution_count": 24,
   "metadata": {},
   "outputs": [
    {
     "name": "stdout",
     "output_type": "stream",
     "text": [
      "Hi seungyeop only 100 days before your birthday!\n"
     ]
    }
   ],
   "source": [
    "first_name = input(\"Enter your first name: \")\n",
    "days = input(\"How many days before your birthday: \")\n",
    "print(f\"Hi {first_name} only {days} days \"\n",
    "      f\"before your birthday!\")"
   ]
  },
  {
   "cell_type": "code",
   "execution_count": 26,
   "metadata": {},
   "outputs": [
    {
     "name": "stdout",
     "output_type": "stream",
     "text": [
      "15 weeks left until my birthday\n"
     ]
    }
   ],
   "source": [
    "# string assignment\n",
    "day_left = int(input(\"How many days until your birthday?\"))\n",
    "\n",
    "week_left = day_left//7\n",
    "print(f\"{week_left} weeks left until my birthday\")"
   ]
  },
  {
   "cell_type": "code",
   "execution_count": null,
   "metadata": {},
   "outputs": [],
   "source": []
  },
  {
   "cell_type": "markdown",
   "metadata": {},
   "source": [
    "* Lists"
   ]
  },
  {
   "cell_type": "code",
   "execution_count": 27,
   "metadata": {},
   "outputs": [
    {
     "name": "stdout",
     "output_type": "stream",
     "text": [
      "[80, 96, 72, 100, 8]\n",
      "['Eric', 'Adele', 'Michel']\n"
     ]
    }
   ],
   "source": [
    "my_list = [80, 96, 72, 100, 8]\n",
    "people_list = ['Eric', 'Adele', 'Michel']\n",
    "\n",
    "print(my_list)\n",
    "print(people_list)"
   ]
  },
  {
   "cell_type": "code",
   "execution_count": 29,
   "metadata": {},
   "outputs": [
    {
     "data": {
      "text/plain": [
       "'Adele'"
      ]
     },
     "execution_count": 29,
     "metadata": {},
     "output_type": "execute_result"
    }
   ],
   "source": [
    "# index\n",
    "my_list[3]\n",
    "people_list[-2]"
   ]
  },
  {
   "cell_type": "code",
   "execution_count": 30,
   "metadata": {},
   "outputs": [
    {
     "data": {
      "text/plain": [
       "['Kane', 96, 72, 100, 8]"
      ]
     },
     "execution_count": 30,
     "metadata": {},
     "output_type": "execute_result"
    }
   ],
   "source": [
    "my_list[0] = 'Kane'\n",
    "my_list"
   ]
  },
  {
   "cell_type": "code",
   "execution_count": 32,
   "metadata": {},
   "outputs": [
    {
     "data": {
      "text/plain": [
       "['Eric', 'Adele']"
      ]
     },
     "execution_count": 32,
     "metadata": {},
     "output_type": "execute_result"
    }
   ],
   "source": [
    "#slicing\n",
    "people_list[:2]"
   ]
  },
  {
   "cell_type": "code",
   "execution_count": 34,
   "metadata": {},
   "outputs": [
    {
     "data": {
      "text/plain": [
       "['Eric', 'Adele', 'Michel', 'Kennedy', 'Kennedy']"
      ]
     },
     "execution_count": 34,
     "metadata": {},
     "output_type": "execute_result"
    }
   ],
   "source": [
    "#append\n",
    "people_list.append('Kennedy')\n",
    "people_list"
   ]
  },
  {
   "cell_type": "code",
   "execution_count": 35,
   "metadata": {},
   "outputs": [
    {
     "data": {
      "text/plain": [
       "[96, 'Jack', 72, 100, 8]"
      ]
     },
     "execution_count": 35,
     "metadata": {},
     "output_type": "execute_result"
    }
   ],
   "source": [
    "# insert, remove\n",
    "my_list.insert(2, 'Jack')\n",
    "my_list.remove('Kane')\n",
    "my_list"
   ]
  },
  {
   "cell_type": "code",
   "execution_count": 36,
   "metadata": {},
   "outputs": [
    {
     "data": {
      "text/plain": [
       "'Jack'"
      ]
     },
     "execution_count": 36,
     "metadata": {},
     "output_type": "execute_result"
    }
   ],
   "source": [
    "# pop : index=1 지우고 보여준다\n",
    "my_list.pop(1)"
   ]
  },
  {
   "cell_type": "code",
   "execution_count": 37,
   "metadata": {},
   "outputs": [
    {
     "data": {
      "text/plain": [
       "[8, 72, 96, 100]"
      ]
     },
     "execution_count": 37,
     "metadata": {},
     "output_type": "execute_result"
    }
   ],
   "source": [
    "# sort\n",
    "my_list.sort()\n",
    "my_list"
   ]
  },
  {
   "cell_type": "markdown",
   "metadata": {},
   "source": [
    "* Sets & Tuples\n",
    "\n",
    "- sets : 순서 x 중복 x, mutable(수정가능)\n",
    "- tuples : 순서 x, immutable(수정불가)"
   ]
  },
  {
   "cell_type": "code",
   "execution_count": 42,
   "metadata": {},
   "outputs": [],
   "source": [
    "# set\n",
    "my_set = {1,2,3,1,2,3,4,5}\n",
    "my_set.remove(1)"
   ]
  },
  {
   "cell_type": "code",
   "execution_count": 39,
   "metadata": {},
   "outputs": [
    {
     "ename": "AttributeError",
     "evalue": "'tuple' object has no attribute 'append'",
     "output_type": "error",
     "traceback": [
      "\u001b[1;31m---------------------------------------------------------------------------\u001b[0m",
      "\u001b[1;31mAttributeError\u001b[0m                            Traceback (most recent call last)",
      "\u001b[1;32mUntitled-1.ipynb 셀 32\u001b[0m in \u001b[0;36m<cell line: 3>\u001b[1;34m()\u001b[0m\n\u001b[0;32m      <a href='vscode-notebook-cell:Untitled-1.ipynb?jupyter-notebook#X32sdW50aXRsZWQ%3D?line=0'>1</a>\u001b[0m \u001b[39m# tuple\u001b[39;00m\n\u001b[0;32m      <a href='vscode-notebook-cell:Untitled-1.ipynb?jupyter-notebook#X32sdW50aXRsZWQ%3D?line=1'>2</a>\u001b[0m my_tuple \u001b[39m=\u001b[39m (\u001b[39m1\u001b[39m,\u001b[39m2\u001b[39m,\u001b[39m3\u001b[39m,\u001b[39m4\u001b[39m,\u001b[39m5\u001b[39m)\n\u001b[1;32m----> <a href='vscode-notebook-cell:Untitled-1.ipynb?jupyter-notebook#X32sdW50aXRsZWQ%3D?line=2'>3</a>\u001b[0m my_tuple\u001b[39m.\u001b[39;49mappend(\u001b[39m100\u001b[39m)\n",
      "\u001b[1;31mAttributeError\u001b[0m: 'tuple' object has no attribute 'append'"
     ]
    }
   ],
   "source": [
    "# tuple\n",
    "my_tuple = (1,2,3,4,5)\n",
    "my_tuple.append(100)\n",
    "my_tuple[2] = 100"
   ]
  },
  {
   "cell_type": "markdown",
   "metadata": {},
   "source": [
    "* set"
   ]
  },
  {
   "cell_type": "code",
   "execution_count": 43,
   "metadata": {},
   "outputs": [
    {
     "name": "stdout",
     "output_type": "stream",
     "text": [
      "2\n",
      "3\n",
      "4\n",
      "5\n"
     ]
    }
   ],
   "source": [
    "for i in my_set:\n",
    "    print(i)"
   ]
  },
  {
   "cell_type": "code",
   "execution_count": 44,
   "metadata": {},
   "outputs": [
    {
     "name": "stdout",
     "output_type": "stream",
     "text": [
      "{2, 4, 5}\n"
     ]
    }
   ],
   "source": [
    "# discard\n",
    "my_set.discard(3)\n",
    "print(my_set)"
   ]
  },
  {
   "cell_type": "code",
   "execution_count": 46,
   "metadata": {},
   "outputs": [
    {
     "data": {
      "text/plain": [
       "set()"
      ]
     },
     "execution_count": 46,
     "metadata": {},
     "output_type": "execute_result"
    }
   ],
   "source": [
    "# clear\n",
    "my_set.clear()\n",
    "my_set"
   ]
  },
  {
   "cell_type": "code",
   "execution_count": 49,
   "metadata": {},
   "outputs": [],
   "source": [
    "# add\n",
    "my_set.add(5)"
   ]
  },
  {
   "cell_type": "code",
   "execution_count": 50,
   "metadata": {},
   "outputs": [
    {
     "data": {
      "text/plain": [
       "{5, 6, 7, 8}"
      ]
     },
     "execution_count": 50,
     "metadata": {},
     "output_type": "execute_result"
    }
   ],
   "source": [
    "# update\n",
    "my_set.update([6,7,8])\n",
    "my_set"
   ]
  },
  {
   "cell_type": "code",
   "execution_count": null,
   "metadata": {},
   "outputs": [],
   "source": []
  },
  {
   "cell_type": "code",
   "execution_count": 55,
   "metadata": {},
   "outputs": [
    {
     "data": {
      "text/plain": [
       "'Lion'"
      ]
     },
     "execution_count": 55,
     "metadata": {},
     "output_type": "execute_result"
    }
   ],
   "source": [
    "# List Assignment\n",
    "zoo = ['Zebra','Cobra','Giraffe','Lion','Dolphin']\n",
    "zoo.pop(3)"
   ]
  },
  {
   "cell_type": "code",
   "execution_count": 56,
   "metadata": {},
   "outputs": [
    {
     "data": {
      "text/plain": [
       "['Cobra', 'Giraffe', 'Dolphin', 'Tiger']"
      ]
     },
     "execution_count": 56,
     "metadata": {},
     "output_type": "execute_result"
    }
   ],
   "source": [
    "zoo.append('Tiger')\n",
    "zoo.remove('Zebra')\n",
    "zoo"
   ]
  },
  {
   "cell_type": "code",
   "execution_count": 57,
   "metadata": {},
   "outputs": [
    {
     "name": "stdout",
     "output_type": "stream",
     "text": [
      "Cobra\n",
      "Giraffe\n",
      "Dolphin\n",
      "Tiger\n"
     ]
    }
   ],
   "source": [
    "for x in zoo:\n",
    "    print(x)"
   ]
  },
  {
   "cell_type": "code",
   "execution_count": 58,
   "metadata": {},
   "outputs": [
    {
     "name": "stdout",
     "output_type": "stream",
     "text": [
      "['Cobra', 'Giraffe', 'Dolphin']\n"
     ]
    }
   ],
   "source": [
    "print(zoo[:3])"
   ]
  },
  {
   "cell_type": "code",
   "execution_count": null,
   "metadata": {},
   "outputs": [],
   "source": []
  },
  {
   "cell_type": "markdown",
   "metadata": {},
   "source": [
    "* Boolean & Operators"
   ]
  },
  {
   "cell_type": "code",
   "execution_count": 59,
   "metadata": {},
   "outputs": [],
   "source": [
    "like_coffee = True\n",
    "like_tea = False\n",
    "\n",
    "favorite_food = \"Pizza\"\n",
    "favorite_number = 32"
   ]
  },
  {
   "cell_type": "code",
   "execution_count": 60,
   "metadata": {},
   "outputs": [
    {
     "name": "stdout",
     "output_type": "stream",
     "text": [
      "<class 'bool'>\n",
      "<class 'str'>\n",
      "<class 'int'>\n"
     ]
    }
   ],
   "source": [
    "print(type(like_coffee))\n",
    "print(type(favorite_food))\n",
    "print(type(favorite_number))"
   ]
  },
  {
   "cell_type": "code",
   "execution_count": 61,
   "metadata": {},
   "outputs": [
    {
     "name": "stdout",
     "output_type": "stream",
     "text": [
      "False\n"
     ]
    }
   ],
   "source": [
    "#comparison operator\n",
    "print(1==2)"
   ]
  },
  {
   "cell_type": "code",
   "execution_count": 63,
   "metadata": {},
   "outputs": [
    {
     "name": "stdout",
     "output_type": "stream",
     "text": [
      "False\n",
      "False\n"
     ]
    }
   ],
   "source": [
    "# logical operators\n",
    "print(1>3 and 5<7)\n",
    "print(not(1==1))"
   ]
  },
  {
   "cell_type": "markdown",
   "metadata": {},
   "source": [
    "* If Else"
   ]
  },
  {
   "cell_type": "code",
   "execution_count": 1,
   "metadata": {},
   "outputs": [
    {
     "name": "stdout",
     "output_type": "stream",
     "text": [
      "x is greater than 1\n",
      "Outside of if statement\n"
     ]
    }
   ],
   "source": [
    "x = 2\n",
    "\n",
    "if x>1:\n",
    "    print(\"x is greater than 1\")\n",
    "else:\n",
    "    print(\"x is not greater than 1\")\n",
    "    \n",
    "print(\"Outside of if statement\")"
   ]
  },
  {
   "cell_type": "code",
   "execution_count": null,
   "metadata": {},
   "outputs": [],
   "source": [
    "#If Else Assignment\n",
    "grade = reversed(list(i for i in range(0,101)))\n",
    "\n",
    "for x in grade:\n",
    "    if 90<=x<=100:\n",
    "        print(\"A\")\n",
    "    elif 80<=x<=89:\n",
    "        print(\"B\")\n",
    "    elif 70<=x<=79:\n",
    "        print(\"C\")\n",
    "    elif 60<=x<=69:\n",
    "        print(\"D\")\n",
    "    else:\n",
    "        print(\"F\")"
   ]
  },
  {
   "cell_type": "markdown",
   "metadata": {},
   "source": [
    "* loop"
   ]
  },
  {
   "cell_type": "code",
   "execution_count": 7,
   "metadata": {},
   "outputs": [
    {
     "name": "stdout",
     "output_type": "stream",
     "text": [
      "1\n",
      "2\n",
      "3\n",
      "4\n",
      "5\n",
      "6\n",
      "7\n"
     ]
    }
   ],
   "source": [
    "my_list = [1,2,3,4,5,6,7]\n",
    "\n",
    "for i in my_list:\n",
    "    print(i)"
   ]
  },
  {
   "cell_type": "code",
   "execution_count": 10,
   "metadata": {},
   "outputs": [
    {
     "name": "stdout",
     "output_type": "stream",
     "text": [
      "1\n",
      "2\n",
      "3\n",
      "4\n",
      "5\n",
      "6\n"
     ]
    },
    {
     "data": {
      "text/plain": [
       "21"
      ]
     },
     "execution_count": 10,
     "metadata": {},
     "output_type": "execute_result"
    }
   ],
   "source": [
    "sum_of_loop = 0\n",
    "\n",
    "for i in range(1,7):\n",
    "    sum_of_loop += i\n",
    "    print(i)\n",
    "    \n",
    "sum_of_loop"
   ]
  },
  {
   "cell_type": "code",
   "execution_count": 11,
   "metadata": {},
   "outputs": [
    {
     "name": "stdout",
     "output_type": "stream",
     "text": [
      "Happy Monday\n",
      "Happy Tuesday\n",
      "Happy Wednesday\n",
      "Happy Thursday\n"
     ]
    }
   ],
   "source": [
    "my_list = ['Monday','Tuesday','Wednesday','Thursday']\n",
    "\n",
    "for x in my_list:\n",
    "    print(f\"Happy {x}\")"
   ]
  },
  {
   "cell_type": "code",
   "execution_count": 16,
   "metadata": {},
   "outputs": [
    {
     "name": "stdout",
     "output_type": "stream",
     "text": [
      "1\n",
      "2\n",
      "4\n"
     ]
    }
   ],
   "source": [
    "##\n",
    "# continue : 아래 코드 건너뛰어서 돌아오기\n",
    "# break : 멈추기\n",
    "i = 0\n",
    "\n",
    "while i<5:\n",
    "    i += 1\n",
    "    if i==3:\n",
    "        continue    # i==3이면 아래 코드 건너뛰기\n",
    "    print(i)\n",
    "    if i==4:\n",
    "        break       # while loop 종료\n",
    "else:               # while loop가 끝나면\n",
    "    print(\"i is now larger of equal to 5\")"
   ]
  },
  {
   "cell_type": "code",
   "execution_count": 17,
   "metadata": {},
   "outputs": [
    {
     "name": "stdout",
     "output_type": "stream",
     "text": [
      "Tuesday\n",
      "Wednesday\n",
      "Thursday\n",
      "Friday\n",
      "Tuesday\n",
      "Wednesday\n",
      "Thursday\n",
      "Friday\n",
      "Tuesday\n",
      "Wednesday\n",
      "Thursday\n",
      "Friday\n"
     ]
    }
   ],
   "source": [
    "# Loops Assignment\n",
    "my_list = ['Monday','Tuesday','Wednesday','Thursday','Friday']\n",
    "\n",
    "i=0\n",
    "while i<3:\n",
    "    for x in my_list:\n",
    "        if x=='Monday':\n",
    "            continue\n",
    "        print(x)\n",
    "    i += 1"
   ]
  },
  {
   "cell_type": "markdown",
   "metadata": {},
   "source": [
    "* Dictionaries"
   ]
  },
  {
   "cell_type": "code",
   "execution_count": 19,
   "metadata": {},
   "outputs": [
    {
     "name": "stdout",
     "output_type": "stream",
     "text": [
      "{'username': 'codingwithroby', 'name': 'Eric', 'age': 32}\n"
     ]
    }
   ],
   "source": [
    "user_dictionary = {\n",
    "    'username':'codingwithroby',\n",
    "    'name':'Eric',\n",
    "    'age':32\n",
    "}\n",
    "\n",
    "print(user_dictionary)"
   ]
  },
  {
   "cell_type": "code",
   "execution_count": 20,
   "metadata": {},
   "outputs": [
    {
     "data": {
      "text/plain": [
       "'codingwithroby'"
      ]
     },
     "execution_count": 20,
     "metadata": {},
     "output_type": "execute_result"
    }
   ],
   "source": [
    "# get\n",
    "user_dictionary.get(\"username\")"
   ]
  },
  {
   "cell_type": "code",
   "execution_count": 21,
   "metadata": {},
   "outputs": [
    {
     "data": {
      "text/plain": [
       "{'username': 'codingwithroby', 'name': 'Eric', 'age': 32, 'married': True}"
      ]
     },
     "execution_count": 21,
     "metadata": {},
     "output_type": "execute_result"
    }
   ],
   "source": [
    "#dictionary에 추가\n",
    "user_dictionary[\"married\"]=True\n",
    "user_dictionary"
   ]
  },
  {
   "cell_type": "code",
   "execution_count": 22,
   "metadata": {},
   "outputs": [
    {
     "data": {
      "text/plain": [
       "4"
      ]
     },
     "execution_count": 22,
     "metadata": {},
     "output_type": "execute_result"
    }
   ],
   "source": [
    "# len\n",
    "len(user_dictionary)"
   ]
  },
  {
   "cell_type": "code",
   "execution_count": 23,
   "metadata": {},
   "outputs": [
    {
     "data": {
      "text/plain": [
       "{'username': 'codingwithroby', 'name': 'Eric', 'married': True}"
      ]
     },
     "execution_count": 23,
     "metadata": {},
     "output_type": "execute_result"
    }
   ],
   "source": [
    "# pop\n",
    "user_dictionary.pop(\"age\")\n",
    "user_dictionary"
   ]
  },
  {
   "cell_type": "code",
   "execution_count": 24,
   "metadata": {},
   "outputs": [
    {
     "data": {
      "text/plain": [
       "{}"
      ]
     },
     "execution_count": 24,
     "metadata": {},
     "output_type": "execute_result"
    }
   ],
   "source": [
    "# clear - 전체 삭제\n",
    "user_dictionary.clear()\n",
    "user_dictionary"
   ]
  },
  {
   "cell_type": "code",
   "execution_count": 25,
   "metadata": {},
   "outputs": [],
   "source": [
    "# del - 전체 삭제\n",
    "del user_dictionary"
   ]
  },
  {
   "cell_type": "code",
   "execution_count": 26,
   "metadata": {},
   "outputs": [
    {
     "name": "stdout",
     "output_type": "stream",
     "text": [
      "username\n",
      "name\n",
      "age\n"
     ]
    }
   ],
   "source": [
    "user_dictionary = {\n",
    "    'username':'codingwithroby',\n",
    "    'name':'Eric',\n",
    "    'age':32\n",
    "}\n",
    "\n",
    "# key만 출력\n",
    "for x in user_dictionary:\n",
    "    print(x)"
   ]
  },
  {
   "cell_type": "code",
   "execution_count": 29,
   "metadata": {},
   "outputs": [
    {
     "name": "stdout",
     "output_type": "stream",
     "text": [
      "username codingwithroby\n",
      "name Eric\n",
      "age 32\n"
     ]
    }
   ],
   "source": [
    "## for loop -> key, value 함께 가져오기\n",
    "for x,y in user_dictionary.items():\n",
    "    print(x,y)"
   ]
  },
  {
   "cell_type": "code",
   "execution_count": 30,
   "metadata": {},
   "outputs": [
    {
     "name": "stdout",
     "output_type": "stream",
     "text": [
      "{'username': 'codingwithroby', 'name': 'Eric'}\n"
     ]
    }
   ],
   "source": [
    "## 복사한 것이 함께 수정됨\n",
    "user_dictionary2 = user_dictionary\n",
    "user_dictionary2.pop(\"age\")\n",
    "print(user_dictionary)"
   ]
  },
  {
   "cell_type": "code",
   "execution_count": 33,
   "metadata": {},
   "outputs": [
    {
     "name": "stdout",
     "output_type": "stream",
     "text": [
      "{'username': 'codingwithroby', 'name': 'Eric', 'age': 32}\n"
     ]
    }
   ],
   "source": [
    "user_dictionary['age'] = 32\n",
    "\n",
    "# 아예 별개의 객체로 만들기 - copy()\n",
    "user_dictionary2 = user_dictionary.copy()\n",
    "user_dictionary2.pop(\"age\")\n",
    "print(user_dictionary)"
   ]
  },
  {
   "cell_type": "code",
   "execution_count": 36,
   "metadata": {},
   "outputs": [
    {
     "name": "stdout",
     "output_type": "stream",
     "text": [
      "key : model\tvalues : Ford\n",
      "key : make\tvalues : Explorer\n",
      "key : year\tvalues : 2018\n",
      "key : mileage\tvalues : 40000\n"
     ]
    }
   ],
   "source": [
    "my_vehicle = {\n",
    "    \"model\":\"Ford\",\n",
    "    \"make\":\"Explorer\",\n",
    "    \"year\":2018,\n",
    "    \"mileage\":40000\n",
    "}\n",
    "\n",
    "for key, values in my_vehicle.items():\n",
    "    print(f\"key : {key}\\t\"\n",
    "          f\"values : {values}\")"
   ]
  },
  {
   "cell_type": "code",
   "execution_count": 37,
   "metadata": {},
   "outputs": [
    {
     "name": "stdout",
     "output_type": "stream",
     "text": [
      "model\n",
      "make\n",
      "year\n",
      "number_of_tires\n"
     ]
    }
   ],
   "source": [
    "vehicle2 = my_vehicle.copy()\n",
    "vehicle2['number_of_tires']=4\n",
    "del vehicle2['mileage']\n",
    "\n",
    "for x in vehicle2:\n",
    "    print(x)"
   ]
  },
  {
   "cell_type": "code",
   "execution_count": null,
   "metadata": {},
   "outputs": [],
   "source": []
  },
  {
   "cell_type": "markdown",
   "metadata": {},
   "source": [
    "* functions"
   ]
  },
  {
   "cell_type": "code",
   "execution_count": null,
   "metadata": {},
   "outputs": [],
   "source": [
    "#내장함수\n",
    "print(\"Hello and welcome to function\")"
   ]
  },
  {
   "cell_type": "code",
   "execution_count": 38,
   "metadata": {},
   "outputs": [],
   "source": [
    "#함수 만들기 but 아직 print 실행 x\n",
    "def my_function():\n",
    "    print(\"Inside my_function\")"
   ]
  },
  {
   "cell_type": "code",
   "execution_count": 39,
   "metadata": {},
   "outputs": [
    {
     "name": "stdout",
     "output_type": "stream",
     "text": [
      "Inside my_function\n"
     ]
    }
   ],
   "source": [
    "# parameter 없음\n",
    "my_function()"
   ]
  },
  {
   "cell_type": "code",
   "execution_count": 43,
   "metadata": {},
   "outputs": [],
   "source": [
    "# parameter 있음\n",
    "def my_name(first_name,last_name):\n",
    "    print(f\"Hello {first_name} {last_name}!\")"
   ]
  },
  {
   "cell_type": "code",
   "execution_count": 44,
   "metadata": {},
   "outputs": [
    {
     "name": "stdout",
     "output_type": "stream",
     "text": [
      "Hello Ray Dalio!\n"
     ]
    }
   ],
   "source": [
    "my_name(\"Ray\",\"Dalio\")"
   ]
  },
  {
   "cell_type": "markdown",
   "metadata": {},
   "source": [
    "* global variable\n",
    "* local variable"
   ]
  },
  {
   "cell_type": "code",
   "execution_count": 45,
   "metadata": {},
   "outputs": [],
   "source": [
    "def print_color_red():\n",
    "    color = \"Red\"\n",
    "    print(color)"
   ]
  },
  {
   "cell_type": "code",
   "execution_count": 47,
   "metadata": {},
   "outputs": [
    {
     "name": "stdout",
     "output_type": "stream",
     "text": [
      "Blue\n",
      "Red\n"
     ]
    }
   ],
   "source": [
    "color = \"Blue\"      \n",
    "print(color)        # global variable\n",
    "print_color_red()   # local variable"
   ]
  },
  {
   "cell_type": "code",
   "execution_count": 48,
   "metadata": {},
   "outputs": [],
   "source": [
    "def print_numbers(highest_num, lowest_num):\n",
    "    print(highest_num)\n",
    "    print(lowest_num)\n",
    "    "
   ]
  },
  {
   "cell_type": "code",
   "execution_count": 49,
   "metadata": {},
   "outputs": [
    {
     "name": "stdout",
     "output_type": "stream",
     "text": [
      "10\n",
      "3\n"
     ]
    }
   ],
   "source": [
    "# 지정해주기\n",
    "print_numbers(lowest_num=3, highest_num=10)"
   ]
  },
  {
   "cell_type": "code",
   "execution_count": 50,
   "metadata": {},
   "outputs": [],
   "source": [
    "# return\n",
    "def multiply_numbers(a,b):\n",
    "    return a*b"
   ]
  },
  {
   "cell_type": "code",
   "execution_count": 51,
   "metadata": {},
   "outputs": [
    {
     "name": "stdout",
     "output_type": "stream",
     "text": [
      "60\n"
     ]
    }
   ],
   "source": [
    "solution = multiply_numbers(10,6)\n",
    "print(solution)"
   ]
  },
  {
   "cell_type": "code",
   "execution_count": 52,
   "metadata": {},
   "outputs": [],
   "source": [
    "def print_list(list_of_numbers:list):   #annotation\n",
    "    for x in list_of_numbers:\n",
    "        print(x)"
   ]
  },
  {
   "cell_type": "code",
   "execution_count": 53,
   "metadata": {},
   "outputs": [
    {
     "name": "stdout",
     "output_type": "stream",
     "text": [
      "1\n",
      "2\n",
      "3\n",
      "4\n",
      "5\n",
      "6\n",
      "7\n"
     ]
    }
   ],
   "source": [
    "number_list = [1,2,3,4,5,6,7]\n",
    "print_list(number_list)"
   ]
  },
  {
   "cell_type": "code",
   "execution_count": 56,
   "metadata": {},
   "outputs": [],
   "source": [
    "##\n",
    "def buy_item(cost_of_item):\n",
    "    return cost_of_item + add_tax_to_item(cost_of_item)\n",
    "\n",
    "def add_tax_to_item(cost_of_item):\n",
    "    current_tax_rate = .03\n",
    "    return cost_of_item * current_tax_rate"
   ]
  },
  {
   "cell_type": "code",
   "execution_count": 55,
   "metadata": {},
   "outputs": [
    {
     "name": "stdout",
     "output_type": "stream",
     "text": [
      "51.5\n"
     ]
    }
   ],
   "source": [
    "final_cost = buy_item(50)\n",
    "print(final_cost)"
   ]
  },
  {
   "cell_type": "code",
   "execution_count": 64,
   "metadata": {},
   "outputs": [],
   "source": [
    "# Functions Assignment\n",
    "def name_age(firstname, lastname, age):\n",
    "    user_dictionary = {\n",
    "        \"firstname\": firstname,\n",
    "        \"lastname\" : lastname,\n",
    "        \"age\" : age\n",
    "    }\n",
    "    return user_dictionary"
   ]
  },
  {
   "cell_type": "code",
   "execution_count": 66,
   "metadata": {},
   "outputs": [
    {
     "name": "stdout",
     "output_type": "stream",
     "text": [
      "{'firstname': 'seungyeop', 'lastname': 'kang', 'age': 25}\n"
     ]
    }
   ],
   "source": [
    "solution_dictionary = name_age(firstname = \"seungyeop\",lastname = \"kang\",age=25)\n",
    "print(solution_dictionary)"
   ]
  },
  {
   "cell_type": "code",
   "execution_count": 68,
   "metadata": {},
   "outputs": [
    {
     "name": "stdout",
     "output_type": "stream",
     "text": [
      "{'firstname': 'seungyeop', 'lastname': 'kang', 'age': 25}\n"
     ]
    }
   ],
   "source": [
    "solution_dictionary = name_age(\"seungyeop\", \"kang\",25)\n",
    "print(solution_dictionary)"
   ]
  },
  {
   "cell_type": "markdown",
   "metadata": {},
   "source": [
    "* imports"
   ]
  },
  {
   "cell_type": "code",
   "execution_count": 2,
   "metadata": {},
   "outputs": [],
   "source": [
    "homework_assignment_grades = {\n",
    "    'homework_1' : 85,\n",
    "    'homework_2' : 100,\n",
    "    'homework_3' : 81,\n",
    "}"
   ]
  },
  {
   "cell_type": "code",
   "execution_count": 1,
   "metadata": {},
   "outputs": [],
   "source": [
    "def calculate_homework(homework_assignments_arg:list):\n",
    "    sum_of_grades = 0\n",
    "    for homework in homework_assignments_arg.values():\n",
    "        sum_of_grades += homework\n",
    "    final_grade = round(sum_of_grades / len(homework_assignments_arg),2)\n",
    "    print(final_grade)"
   ]
  },
  {
   "cell_type": "code",
   "execution_count": 3,
   "metadata": {},
   "outputs": [
    {
     "name": "stdout",
     "output_type": "stream",
     "text": [
      "88.67\n"
     ]
    }
   ],
   "source": [
    "calculate_homework(homework_assignment_grades)"
   ]
  },
  {
   "cell_type": "code",
   "execution_count": 7,
   "metadata": {},
   "outputs": [],
   "source": [
    "#As로 이름바꾸기\n",
    "import grade_average_service as grade_service"
   ]
  },
  {
   "cell_type": "code",
   "execution_count": 6,
   "metadata": {},
   "outputs": [
    {
     "data": {
      "text/plain": [
       "'c:\\\\Users\\\\sykan\\\\Desktop\\\\FBA Quant\\\\Quant Development\\\\new repository\\\\SQL_Bootcamp\\\\Week4'"
      ]
     },
     "execution_count": 6,
     "metadata": {},
     "output_type": "execute_result"
    }
   ],
   "source": [
    "import os\n",
    "os.getcwd()"
   ]
  },
  {
   "cell_type": "code",
   "execution_count": null,
   "metadata": {},
   "outputs": [],
   "source": []
  },
  {
   "cell_type": "code",
   "execution_count": 9,
   "metadata": {},
   "outputs": [],
   "source": [
    "import standardlibrary"
   ]
  },
  {
   "cell_type": "markdown",
   "metadata": {},
   "source": [
    "* Object Oriented Programming"
   ]
  },
  {
   "cell_type": "code",
   "execution_count": 12,
   "metadata": {},
   "outputs": [],
   "source": [
    "class Student:\n",
    "    pass"
   ]
  },
  {
   "cell_type": "code",
   "execution_count": 13,
   "metadata": {},
   "outputs": [],
   "source": [
    "#making instance\n",
    "student_1 = Student()\n",
    "student_2 = Student()"
   ]
  },
  {
   "cell_type": "code",
   "execution_count": 14,
   "metadata": {},
   "outputs": [
    {
     "name": "stdout",
     "output_type": "stream",
     "text": [
      "<__main__.Student object at 0x00000258070EE650>\n",
      "<__main__.Student object at 0x000002580840FEB0>\n"
     ]
    }
   ],
   "source": [
    "# 두 instance는 서로 다른 memory에 있다\n",
    "print(student_1)\n",
    "print(student_2)"
   ]
  },
  {
   "cell_type": "code",
   "execution_count": 15,
   "metadata": {},
   "outputs": [],
   "source": [
    "student_1.first_name = 'Eric'\n",
    "student_1.last_name = 'Roby'\n",
    "student_1.major = 'Computer Science'\n",
    "\n",
    "student_2.first_name = 'John'\n",
    "student_2.last_name = 'Miller'\n",
    "student_2.major = 'Math'"
   ]
  },
  {
   "cell_type": "code",
   "execution_count": 16,
   "metadata": {},
   "outputs": [
    {
     "name": "stdout",
     "output_type": "stream",
     "text": [
      "Computer Science\n",
      "Math\n"
     ]
    }
   ],
   "source": [
    "print(student_1.major)\n",
    "print(student_2.major)"
   ]
  },
  {
   "cell_type": "code",
   "execution_count": 21,
   "metadata": {},
   "outputs": [],
   "source": [
    "class Student:\n",
    "    def __init__(self, first_name, last_name, major):\n",
    "        self.first_name = first_name\n",
    "        self.last_name = last_name\n",
    "        self.major = major\n",
    "\n",
    "    #class method\n",
    "    def fullname_with_major(self):\n",
    "        return f'{self.first_name} {self.last_name} is a '\\\n",
    "               f'{self.major} major!'\n",
    "    "
   ]
  },
  {
   "cell_type": "code",
   "execution_count": 22,
   "metadata": {},
   "outputs": [],
   "source": [
    "# making instance -> 변수 값 바로 삽입\n",
    "student_1 = Student('Eric','Roby','Computer Science')\n",
    "student_2 = Student('John','Miller','Math')"
   ]
  },
  {
   "cell_type": "code",
   "execution_count": 19,
   "metadata": {},
   "outputs": [
    {
     "name": "stdout",
     "output_type": "stream",
     "text": [
      "Eric\n",
      "John\n"
     ]
    }
   ],
   "source": [
    "print(student_1.first_name)\n",
    "print(student_2.first_name)"
   ]
  },
  {
   "cell_type": "code",
   "execution_count": 23,
   "metadata": {},
   "outputs": [
    {
     "name": "stdout",
     "output_type": "stream",
     "text": [
      "Eric Roby is a Computer Science major!\n",
      "John Miller is a Math major!\n"
     ]
    }
   ],
   "source": [
    "# class 내의 메서드 사용\n",
    "print(student_1.fullname_with_major())\n",
    "print(student_2.fullname_with_major())"
   ]
  },
  {
   "cell_type": "code",
   "execution_count": 36,
   "metadata": {},
   "outputs": [],
   "source": [
    "class Student:\n",
    "    \n",
    "    number_of_students = 0\n",
    "    school = 'Online School'  #class variable\n",
    "    \n",
    "    def __init__(self, first_name, last_name, major):\n",
    "        self.first_name = first_name\n",
    "        self.last_name = last_name\n",
    "        self.major = major\n",
    "\n",
    "        # new student가 만들어질 때마다 number_of_students 1씩 추가\n",
    "        Student.number_of_students += 1\n",
    "\n",
    "    def fullname_with_major(self):\n",
    "        return f'{self.first_name} {self.last_name} is a '\\\n",
    "               f'{self.major} major!'\n",
    "               \n",
    "    def fullname_major_school(self):\n",
    "        return f'{self.first_name} {self.last_name} is a '\\\n",
    "               f'{self.major} major going to {self.school}'\n",
    "    \n",
    "    #decorator\n",
    "    # new_school인자를 받으면 그 인자가 class 내의 school 변수가 됨\n",
    "    @classmethod\n",
    "    def set_online_school(cls, new_school):\n",
    "        cls.school = new_school\n",
    "        \n",
    "    @classmethod\n",
    "    def split_students(cls, student_str):\n",
    "        first_name, last_name, major = student_str.split('.')\n",
    "        return cls(first_name, last_name, major)"
   ]
  },
  {
   "cell_type": "markdown",
   "metadata": {},
   "source": [
    "### Decorator\n",
    "기존 함수를 변경하지 않으면서 함수에 기능을 추가할 수 있게 해주는 도구"
   ]
  },
  {
   "cell_type": "code",
   "execution_count": 34,
   "metadata": {},
   "outputs": [
    {
     "name": "stdout",
     "output_type": "stream",
     "text": [
      "Number of students = 0\n",
      "Number of students = 2\n",
      "Online School\n",
      "Online School\n"
     ]
    }
   ],
   "source": [
    "# class variable\n",
    "print(f'Number of students = {Student.number_of_students}')\n",
    "student_1 = Student('Eric','Roby','Computer Science')\n",
    "student_2 = Student('John','Miller','Math')\n",
    "# 위 2개 코드로 __init__에 2개가 들어감 -> number_of_students +2\n",
    "print(f'Number of students = {Student.number_of_students}')\n",
    "\n",
    "\n",
    "print(student_1.school)\n",
    "print(student_2.school)\n",
    "\n",
    "Student.set_online_school"
   ]
  },
  {
   "cell_type": "code",
   "execution_count": 31,
   "metadata": {},
   "outputs": [
    {
     "name": "stdout",
     "output_type": "stream",
     "text": [
      "Eric Roby is a Computer Science major going to Online School\n",
      "John Miller is a Math major going to Online School\n"
     ]
    }
   ],
   "source": [
    "print(student_1.fullname_major_school())\n",
    "print(student_2.fullname_major_school())"
   ]
  },
  {
   "cell_type": "code",
   "execution_count": 40,
   "metadata": {},
   "outputs": [
    {
     "name": "stdout",
     "output_type": "stream",
     "text": [
      "Adil Yutzy is a English major going to Online School\n"
     ]
    }
   ],
   "source": [
    "new_student = 'Adil.Yutzy.English'\n",
    "student_3 = Student.split_students(new_student)\n",
    "print(student_3.fullname_major_school())"
   ]
  },
  {
   "cell_type": "markdown",
   "metadata": {},
   "source": [
    "* Inheritance\n",
    "- making subclass from parent class"
   ]
  },
  {
   "cell_type": "code",
   "execution_count": 12,
   "metadata": {},
   "outputs": [
    {
     "name": "stdout",
     "output_type": "stream",
     "text": [
      "Hello! I am Eric Roby\n",
      "Hello! I am John Miller\n"
     ]
    }
   ],
   "source": [
    "class Student:\n",
    "    \n",
    "    def __init__(self, first_name, last_name):\n",
    "        self.first_name = first_name\n",
    "        self.last_name = last_name\n",
    "\n",
    "    def greetings(self):\n",
    "        return f'Hello! I am {self.first_name} {self.last_name}'\n",
    "    \n",
    "class CollegeStudent(Student):\n",
    "    pass\n",
    "\n",
    "student_1 = CollegeStudent('Eric','Roby')   ## 주목\n",
    "student_2 = Student('John','Miller')\n",
    "\n",
    "print(student_1.greetings())    #CollegeStudent의 내용물은 아무것도 없지만 Student class를 상속받아 greetings() 사용\n",
    "print(student_2.greetings())"
   ]
  },
  {
   "cell_type": "code",
   "execution_count": 19,
   "metadata": {},
   "outputs": [
    {
     "name": "stdout",
     "output_type": "stream",
     "text": [
      "Eric is a college student!\n",
      "Hello! I am John Miller\n",
      "Hello! I am John Miller\n",
      "Doctor\n",
      "When I grow up, I want to be a Doctor\n"
     ]
    }
   ],
   "source": [
    "class Student:\n",
    "    \n",
    "    def __init__(self, first_name, last_name):\n",
    "        self.first_name = first_name\n",
    "        self.last_name = last_name\n",
    "\n",
    "    def greetings(self):\n",
    "        return f'Hello! I am {self.first_name} {self.last_name}'\n",
    "    \n",
    "class CollegeStudent(Student):\n",
    "    def __init__(self, first_name, last_name, major):\n",
    "        super().__init__(first_name, last_name)     #super() : parent level로 이동(student)\n",
    "                                                    #즉, CollegeStudent 클래스의 first_name, last_name은 Stuent 클래스에서 가져온다!\n",
    "        self.major = major # 이 부분은 다시 적어야 함 / first_name, last_name은 Student에서 이미 나옴\n",
    "\n",
    "    def greetings(self):\n",
    "        return f'{self.first_name} is a college student!'\n",
    "\n",
    "class NonCollegeStudent(Student):\n",
    "    def __init__(self, first_name, last_name, future_adult_job):\n",
    "        super().__init__(first_name, last_name)\n",
    "        \n",
    "        self.future_adult_job = future_adult_job\n",
    "\n",
    "    def grow_up(self):\n",
    "        return f'When I grow up, I want to be a {self.future_adult_job}'\n",
    "\n",
    "\n",
    "student_1 = CollegeStudent('Eric','Roby','Computer Science')\n",
    "student_2 = Student('John','Miller')\n",
    "student_3 = NonCollegeStudent('John','Miller','Doctor')\n",
    "\n",
    "print(student_1.greetings())    # CollegeStudent는 def에 greetings가 따로 있어 이것을 따름\n",
    "print(student_2.greetings())\n",
    "print(student_3.greetings())\n",
    "print(student_3.future_adult_job)\n",
    "print(student_3.grow_up())"
   ]
  },
  {
   "cell_type": "code",
   "execution_count": null,
   "metadata": {},
   "outputs": [],
   "source": []
  },
  {
   "cell_type": "code",
   "execution_count": null,
   "metadata": {},
   "outputs": [],
   "source": []
  },
  {
   "cell_type": "code",
   "execution_count": null,
   "metadata": {},
   "outputs": [],
   "source": []
  },
  {
   "cell_type": "code",
   "execution_count": null,
   "metadata": {},
   "outputs": [],
   "source": []
  },
  {
   "cell_type": "code",
   "execution_count": null,
   "metadata": {},
   "outputs": [],
   "source": []
  },
  {
   "cell_type": "code",
   "execution_count": null,
   "metadata": {},
   "outputs": [],
   "source": []
  },
  {
   "cell_type": "code",
   "execution_count": null,
   "metadata": {},
   "outputs": [],
   "source": []
  },
  {
   "cell_type": "code",
   "execution_count": null,
   "metadata": {},
   "outputs": [],
   "source": []
  },
  {
   "cell_type": "code",
   "execution_count": null,
   "metadata": {},
   "outputs": [],
   "source": []
  },
  {
   "cell_type": "code",
   "execution_count": null,
   "metadata": {},
   "outputs": [],
   "source": []
  },
  {
   "cell_type": "code",
   "execution_count": null,
   "metadata": {},
   "outputs": [],
   "source": []
  },
  {
   "cell_type": "code",
   "execution_count": null,
   "metadata": {},
   "outputs": [],
   "source": []
  },
  {
   "cell_type": "code",
   "execution_count": null,
   "metadata": {},
   "outputs": [],
   "source": []
  },
  {
   "cell_type": "code",
   "execution_count": null,
   "metadata": {},
   "outputs": [],
   "source": []
  },
  {
   "cell_type": "code",
   "execution_count": null,
   "metadata": {},
   "outputs": [],
   "source": []
  },
  {
   "cell_type": "code",
   "execution_count": null,
   "metadata": {},
   "outputs": [],
   "source": []
  },
  {
   "cell_type": "code",
   "execution_count": null,
   "metadata": {},
   "outputs": [],
   "source": []
  },
  {
   "cell_type": "code",
   "execution_count": null,
   "metadata": {},
   "outputs": [],
   "source": []
  },
  {
   "cell_type": "code",
   "execution_count": null,
   "metadata": {},
   "outputs": [],
   "source": []
  },
  {
   "cell_type": "code",
   "execution_count": null,
   "metadata": {},
   "outputs": [],
   "source": []
  },
  {
   "cell_type": "code",
   "execution_count": null,
   "metadata": {},
   "outputs": [],
   "source": []
  },
  {
   "cell_type": "code",
   "execution_count": null,
   "metadata": {},
   "outputs": [],
   "source": []
  },
  {
   "cell_type": "code",
   "execution_count": null,
   "metadata": {},
   "outputs": [],
   "source": []
  },
  {
   "cell_type": "code",
   "execution_count": null,
   "metadata": {},
   "outputs": [],
   "source": []
  },
  {
   "cell_type": "code",
   "execution_count": null,
   "metadata": {},
   "outputs": [],
   "source": []
  }
 ],
 "metadata": {
  "kernelspec": {
   "display_name": "Python 3",
   "language": "python",
   "name": "python3"
  },
  "language_info": {
   "codemirror_mode": {
    "name": "ipython",
    "version": 3
   },
   "file_extension": ".py",
   "mimetype": "text/x-python",
   "name": "python",
   "nbconvert_exporter": "python",
   "pygments_lexer": "ipython3",
   "version": "3.10.5"
  },
  "orig_nbformat": 4
 },
 "nbformat": 4,
 "nbformat_minor": 2
}
